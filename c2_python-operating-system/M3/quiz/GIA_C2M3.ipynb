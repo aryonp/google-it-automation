{
  "nbformat": 4,
  "nbformat_minor": 0,
  "metadata": {
    "colab": {
      "provenance": []
    },
    "kernelspec": {
      "name": "python3",
      "display_name": "Python 3"
    },
    "language_info": {
      "name": "python"
    }
  },
  "cells": [
    {
      "cell_type": "code",
      "execution_count": null,
      "metadata": {
        "id": "iQyCsfNvM6TU"
      },
      "outputs": [],
      "source": []
    },
    {
      "cell_type": "markdown",
      "source": [
        "You are reading an article that includes some government websites in the form https://www.website-domain.gov. You’d like to make a list of these websites by extracting them from the text automatically, instead of copying and pasting them by hand.\n",
        "\n",
        "Complete the function find_gov_urls to accomplish this task for all websites that end with .gov."
      ],
      "metadata": {
        "id": "yLJagjn7M9PY"
      }
    },
    {
      "cell_type": "code",
      "source": [
        "import re\n",
        "\n",
        "def find_gov_urls(website):\n",
        " pattern = r'https://[\\w.-]+\\.gov' #enter the regex pattern here\n",
        " result = re.findall(pattern, website) #enter the re method here\n",
        " return result\n",
        "\n",
        "\n",
        "print(find_gov_urls(\"https://www.data.gov is a great place to find open source datasets!\")) # Should return ['https://www.data.gov']\n",
        "print(find_gov_urls(\"Learn more about US National Parks at https://www.nps.gov, https://www.nationalparks.org, or https://www.recreation.gov.\")) # Should return ['https://www.nps.gov', 'https://www.recreation.gov']\n",
        "print(find_gov_urls(\"The Library of Congress (https://www.loc.gov) is an incredible resource!\")) # Should return ['https://www.loc.gov']\n",
        "print(find_gov_urls(\"The Library of Congress (www.loc.gov) is an incredible resource!\")) # Should return []"
      ],
      "metadata": {
        "colab": {
          "base_uri": "https://localhost:8080/"
        },
        "id": "URPPlheZNAhk",
        "outputId": "164da7b2-93b0-43f9-a46f-6143ca10f54d"
      },
      "execution_count": 3,
      "outputs": [
        {
          "output_type": "stream",
          "name": "stdout",
          "text": [
            "['https://www.data.gov']\n",
            "['https://www.nps.gov', 'https://www.recreation.gov']\n",
            "['https://www.loc.gov']\n",
            "[]\n"
          ]
        }
      ]
    },
    {
      "cell_type": "markdown",
      "source": [
        "You are exploring the punctuation at the end of sentences and want to split sentences so that each word is separate and any punctuation is included in the word next to it. Complete the parse_sentences function to accomplish this task."
      ],
      "metadata": {
        "id": "xb1JqYLgNDih"
      }
    },
    {
      "cell_type": "code",
      "source": [
        "import re\n",
        "\n",
        "def parse_sentences(sentence):\n",
        " pattern = r'(?<=\\S)\\s+(?=\\S)' #enter the regex pattern here\n",
        " result = re.split(pattern, sentence) #enter the re method  here\n",
        " return result\n",
        "\n",
        "print(parse_sentences(\"Hello! How are you doing?\")) # should return ['Hello!', 'How', 'are', 'you', 'doing?']\n",
        "print(parse_sentences(\"what a beautiful day it is\")) # should return ['what', 'a', 'beautiful', 'day', 'it', 'is']\n",
        "print(parse_sentences(\"2 + 2 is definitely 4!\")) # should return ['2', '+', '2', 'is', 'definitely', '4!']\n"
      ],
      "metadata": {
        "colab": {
          "base_uri": "https://localhost:8080/"
        },
        "id": "Zd4MvzbvNHZ6",
        "outputId": "d73a9b43-6eca-4314-b76a-aea82cd6d6cb"
      },
      "execution_count": 4,
      "outputs": [
        {
          "output_type": "stream",
          "name": "stdout",
          "text": [
            "['Hello!', 'How', 'are', 'you', 'doing?']\n",
            "['what', 'a', 'beautiful', 'day', 'it', 'is']\n",
            "['2', '+', '2', 'is', 'definitely', '4!']\n"
          ]
        }
      ]
    },
    {
      "cell_type": "markdown",
      "source": [
        "International Standard Book Numbers (ISBNs) are used to uniquely identify published books. They follow the 13-digit format XXX-X-XX-XXXXXX-X, where each X represents one numeric digit. You have a list of books, information about those books, and their ISBN numbers. You want to extract the 6 digits of the ISBN that come before the last hyphen of each book’s ISBN number. However, you need to be careful to avoid 6-digit strings that are not part of the ISBN numbers you’re interested in."
      ],
      "metadata": {
        "id": "iTQuH7XfNKrZ"
      }
    },
    {
      "cell_type": "code",
      "source": [
        "import re\n",
        "\n",
        "def find_isbn(string):\n",
        "    # Regex pattern to match the ISBN format and capture the 6 digits before the last hyphen\n",
        "    pattern = r'\\b\\d{3}-\\d-\\d{2}-(\\d{6})-\\d\\b'\n",
        "\n",
        "    # Use re.search to find the pattern in the string\n",
        "    result = re.search(pattern, string)\n",
        "\n",
        "    if result is None:\n",
        "        return \"\"\n",
        "\n",
        "    # Return the captured group\n",
        "    return result.group(1)\n",
        "\n",
        "# Test cases\n",
        "print(find_isbn(\"123-4-12-098754-0\"))  # Should return 098754\n",
        "print(find_isbn(\"223094-AB-30\"))       # Should return blank\n",
        "print(find_isbn(\"1123-4-12-098754-0\")) # Should return blank"
      ],
      "metadata": {
        "colab": {
          "base_uri": "https://localhost:8080/"
        },
        "id": "FO3rr2wwNZZA",
        "outputId": "5e4daf08-c4ed-4839-9c3e-351d333d6767"
      },
      "execution_count": 6,
      "outputs": [
        {
          "output_type": "stream",
          "name": "stdout",
          "text": [
            "098754\n",
            "\n",
            "\n"
          ]
        }
      ]
    },
    {
      "cell_type": "markdown",
      "source": [
        "You have a list of website urls that includes both securely encrypted websites that begin with https:// and the unencrypted websites that begin with http://. The list includes websites that end in .com and .co.\n",
        "\n",
        "Complete the secure_website_domain function so it returns the part of the website between www. and the last part of the url (.com or .co) for only the secure websites."
      ],
      "metadata": {
        "id": "kPCRdl9URLKm"
      }
    },
    {
      "cell_type": "code",
      "source": [
        "import re\n",
        "\n",
        "\n",
        "def secure_website_domain(website):\n",
        "    # Correct regex pattern to match the secure website domains\n",
        "    pattern = r'^https://www\\.(text)\\.(com|co)$'\n",
        "\n",
        "    # Use re.match to find the pattern in the website\n",
        "    result = re.match(pattern, website)\n",
        "\n",
        "    if result is None:\n",
        "        return \"\"\n",
        "\n",
        "    # Return the correct capturing group\n",
        "    return result.group(1)\n",
        "\n",
        "# Test cases\n",
        "print(secure_website_domain(\"http://www.text.com\"))  # Should return nothing\n",
        "print(secure_website_domain(\"https://www.text.com\")) # Should return text\n",
        "print(secure_website_domain(\"http://www.text.co\"))   # Should return nothing\n",
        "print(secure_website_domain(\"https://www.text.co\"))  # Should return text"
      ],
      "metadata": {
        "colab": {
          "base_uri": "https://localhost:8080/"
        },
        "id": "GsthKRagRMBB",
        "outputId": "45145e6f-1084-45c1-d178-f9006f894375"
      },
      "execution_count": 8,
      "outputs": [
        {
          "output_type": "stream",
          "name": "stdout",
          "text": [
            "\n",
            "text\n",
            "\n",
            "text\n"
          ]
        }
      ]
    },
    {
      "cell_type": "markdown",
      "source": [
        "You are working with a dataset on customer orders. This dataset includes a field that contains information on both city and state. You would like to separate this field into two fields, a city field and a state field. In the current field, city and state are separated by either a comma, or a period. Complete the function parse_city_state to split city and state into two strings and return only the state."
      ],
      "metadata": {
        "id": "oqRmQCH-RsIu"
      }
    },
    {
      "cell_type": "code",
      "source": [
        "def parse_city_state(text):\n",
        " pattern = _______ #enter the regex pattern here\n",
        " result = re.______(pattern, text) #enter the re method  here\n",
        " if len(result) != 2:\n",
        "  return \"\"\n",
        " return ______#return the correct capturing group\n",
        "\n",
        "\n",
        "print(parse_city_state(\"Hamilton, MN\")) # should return MN\n",
        "print(parse_city_state(\"Albuquerque, New Mexico\")) # should return New Mexico\n",
        "print(parse_city_state(\"Portland. Oregon\")) # should return Oregon"
      ],
      "metadata": {
        "id": "-bSxeCamUXjP"
      },
      "execution_count": null,
      "outputs": []
    },
    {
      "cell_type": "code",
      "source": [
        "import re\n",
        "\n",
        "def parse_city_state(text):\n",
        "    # Regex pattern to match city and state separated by a comma or a period\n",
        "    pattern = r'^[^,.\\s]+(?:[\\s\\w]*)[,.]\\s*([\\w\\s]+)$'\n",
        "\n",
        "    # Use re.search to find the pattern in the text\n",
        "    result = re.search(pattern, text)\n",
        "\n",
        "    if result is None:\n",
        "        return \"\"\n",
        "\n",
        "    # Return the correct capturing group\n",
        "    return result.group(1)\n",
        "\n",
        "# Test cases\n",
        "print(parse_city_state(\"Hamilton, MN\"))            # Should return MN\n",
        "print(parse_city_state(\"Albuquerque, New Mexico\")) # Should return New Mexico\n",
        "print(parse_city_state(\"Portland. Oregon\"))        # Should return Oregon"
      ],
      "metadata": {
        "colab": {
          "base_uri": "https://localhost:8080/"
        },
        "id": "0CagNV0TRu6T",
        "outputId": "1bc5587a-ecc7-4ed8-8b43-c459212c401b"
      },
      "execution_count": 9,
      "outputs": [
        {
          "output_type": "stream",
          "name": "stdout",
          "text": [
            "MN\n",
            "New Mexico\n",
            "Oregon\n"
          ]
        }
      ]
    },
    {
      "cell_type": "markdown",
      "source": [
        "A company uses unique, 9-character codes that begin with a capital letter, followed by a hyphen (-), followed by 7 or 8 digits as employee ID numbers, in the format A-1234567 or A-12345678. Project reports submitted to the company include the employee’s ID number and a summary of the work they completed on the project.\n",
        "\n",
        "A data analyst wants to pull all of the employee ID numbers out of these projects. Complete the find_eid function to extract these employee ID numbers from the reports."
      ],
      "metadata": {
        "id": "X7QPyRWUR50R"
      }
    },
    {
      "cell_type": "code",
      "source": [
        "def find_eid(report):\n",
        "  pattern = _____ #enter the regex pattern here\n",
        "  result = re.____(pattern, report) #enter the re method  here\n",
        "  return result\n",
        "\n",
        "\n",
        "print(find_eid(\"Employees B-1234567 and C-12345678 worked with products X-123456 and Z-123456789\")) # Should return ['B-1234567', 'C-1234567']\n",
        "print(find_eid(\"Employees B-1234567 and C-12345678, not employees b-1234567 and c-12345678\")) #Should return ['B-1234567', 'C-1234567']"
      ],
      "metadata": {
        "id": "xKZ9OiTcUUxR"
      },
      "execution_count": null,
      "outputs": []
    },
    {
      "cell_type": "code",
      "source": [
        "import re\n",
        "\n",
        "def find_eid(report):\n",
        "    # Regex pattern to match EIDs in the format of an uppercase letter followed by a hyphen and 7 digits\n",
        "    pattern = r'\\b[A-Z]-\\d{7,8}\\b'\n",
        "\n",
        "    # Use re.findall to find all occurrences of the pattern in the report\n",
        "    result = re.findall(pattern, report)\n",
        "\n",
        "    return result\n",
        "\n",
        "# Test cases\n",
        "print(find_eid(\"Employees B-1234567 and C-12345678 worked with products X-123456 and Z-123456789\"))\n",
        "# Should return ['B-1234567', 'C-1234567']\n",
        "\n",
        "print(find_eid(\"Employees B-1234567 and C-12345678, not employees b-1234567 and c-12345678\"))\n",
        "# Should return ['B-1234567', 'C-1234567']"
      ],
      "metadata": {
        "colab": {
          "base_uri": "https://localhost:8080/"
        },
        "id": "lYswnFf8R6mg",
        "outputId": "0a3d1302-2873-4764-e332-90d8f5277bf1"
      },
      "execution_count": 15,
      "outputs": [
        {
          "output_type": "stream",
          "name": "stdout",
          "text": [
            "['B-1234567', 'C-12345678']\n",
            "['B-1234567', 'C-12345678']\n"
          ]
        }
      ]
    }
  ]
}